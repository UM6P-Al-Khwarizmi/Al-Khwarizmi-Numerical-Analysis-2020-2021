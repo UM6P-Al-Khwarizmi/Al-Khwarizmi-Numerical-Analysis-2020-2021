{
 "cells": [
  {
   "cell_type": "markdown",
   "metadata": {},
   "source": [
    "# Introduction à l'Analyse Numérique"
   ]
  },
  {
   "cell_type": "markdown",
   "metadata": {},
   "source": [
    "La modélisation consiste à remplacer un système complexe en un objet simple qui reproduit les comportements principaux du système à étudier. Ce modèle peut être un modèle réduit, modèle numérique, expérience au laboratoire ou autre.\n",
    "\n",
    "On s'intéresse ici à la modélisation numérique qui consiste à remplacer le problème à étudier par des équations mathématiques. Ces équations, généralement des équations différentielles ou aux dérivées partielles, sont souvent non linéaires et donc leurs solutions exactes sont très difficiles à calculer, voire parfois impossible. On fait donc recours à l'analyse numérique dont le rôle est de développer et analyser les méthodes numériques pour approcher les solutions de ces équations.\n",
    "\n",
    "La modélisation et l'approximation numérique voient leurs applications dans divers domaines tels que :\n",
    "\n",
    "* L'environnement : pollution de l'air, de l'eau, du sol.\n",
    "* L'aviation : aérodynamique autour des avions, matériaux composites.\n",
    "* Météorologie : simulation du climat.\n",
    "* Biologie et médecine : évolution des épidémies, modèles mathématiques en cardiovasculaire.\n",
    "* Océans : Vagues, tsunamis.\n",
    "* Finance : Evolution des options.\n"
   ]
  },
  {
   "cell_type": "markdown",
   "metadata": {},
   "source": [
    "La modélisation numérique comporte cinq étapes :\n",
    "\n",
    "* Etablissement d'un modèle mathématique qui décrit le problème industriel que l'on veut résoudre.\n",
    "* Discrétisation des équations $\\Rightarrow$ modèle mathématique discret.\n",
    "* Méthodes numériques pour la résolution du modèle discret.\n",
    "* Mise en œuvre informatique.\n",
    "* Analyse et interprétation des résultats et évaluation de la précision du modèle et des méthodes utilisées. Ceci se fait généralement par comparaison avec des études expérimentales existantes ou par des études d'analyse mathématique d'ordre et de convergence.\n",
    "\n",
    "La simulation numérique permet en effet de :\n",
    "\n",
    "* Minimiser le coût de prototypes (avions, ponts, barrages, voitures,...)\n",
    "* Prédire des phénomènes tels que la météo, l'évolution des épidémies, écoulements marins, inondations,...\n",
    "* Simuler des systèmes complexes dont l'expérience ne peut réaliser.\n",
    "\n",
    "Dans ce cours d'analyse numérique, nous nous intéresserons à développer des algorithmes numériques pour :\n",
    "\n",
    "* La résolution des systèmes linéaires,\n",
    "* l'intégration numérique,\n",
    "* la résolution des équations différentielles,\n",
    "* l'interpolation par des polynômes,\n",
    "* l'optimisation.\n",
    "\n",
    "On veillera aussi à analyser :\n",
    "\n",
    "* la précision de ces méthodes (en procédant à des calculs d'erreurs),\n",
    "* la complexité et le coût de calcul de ces méthodes (qui sont liés aux nombres d'opérations effectuées par l'algorithme."
   ]
  },
  {
   "cell_type": "markdown",
   "metadata": {},
   "source": [
    "## Quelques exemples :\n",
    "\n",
    "### Intégrale :\n",
    "\n",
    "Considérons l'intégrale : $\\displaystyle \\int_{1}^{3} \\mathrm{e}^{-x^{2}} dx$.\n",
    "\n",
    "Cette intégrale existe car la fonction $x \\mapsto \\mathrm{e}^{-x^{2}}$ est continue sur $[1,3]$. Mais, on ne peut pas calculer cette intégrale d'une manière exacte en utilisant les outils de calcul d'intégrales.\n",
    "\n",
    "Le recours à des méthodes numériques pour approcher la valeur de cette intégrale est donc nécessaire.\n",
    "\n"
   ]
  },
  {
   "cell_type": "code",
   "execution_count": 1,
   "metadata": {},
   "outputs": [
    {
     "data": {
      "text/latex": [
       "$\\displaystyle - e^{- x}$"
      ],
      "text/plain": [
       "-exp(-x)"
      ]
     },
     "execution_count": 1,
     "metadata": {},
     "output_type": "execute_result"
    }
   ],
   "source": [
    "from sympy.abc import x\n",
    "from sympy import exp, integrate\n",
    "\n",
    "# calcul de la primitive de x -> exp(-x)\n",
    "integrate(exp(-x), x)"
   ]
  },
  {
   "cell_type": "markdown",
   "metadata": {},
   "source": [
    "###  Equation différentielle ordinaire (EDO) :\n",
    "\n",
    "\n",
    "Considérons l'équation différentielle linéaire :\\hspace{0.3cm}$ (L_{1})\\, : \\hspace{0.2cm} y'=5\\,xy $\n",
    "\n",
    "Les solutions de l'équation $(L_{1})$ peuvent être calculés d'une manière exacte. Elles sont données par :\n",
    "\n",
    "$ y(x)=c\\, \\mathrm{e}^{\\frac{5}{2}x^{2}}$ \\hspace{0.7cm} où \\;\\;\\;\\; $c=\\mathrm{cte}$\n",
    "\n",
    "prenons maintenant l'équation différentielle non linéaire :\n",
    "\n",
    "$$ (L_{2})\\, : \\hspace{0.2cm} y'=5x \\sin(y)$$\n",
    "\n",
    "A la différence de l'équation $(L_{1})$, l'équation $(L_{2})$ ne peut pas être résolue d'une manière exacte. Nous sommes donc contraints d'utiliser des méthodes\n",
    "numériques pour approximer la solution de l'équation $(L_{2})$.\n"
   ]
  },
  {
   "cell_type": "markdown",
   "metadata": {},
   "source": [
    "### Equation non linéaire :\n",
    "\n",
    "Soit l'équation :  $(E)\\, : \\hspace{0.2cm} x^{3}-2x-5=0 $ \\smallskip \\\\posons :\\hspace{0.3cm} $\\displaystyle f(x)=x^{3}-2x-5$\n",
    "\n",
    "on a :\n",
    " $f(2)=2^{3}-2\\times 2 -5= -1\\,<0 \\quad$ et $\\quad f(3)=3^{3}-2\\times 3-5 = 16\\,>0$.\n",
    " \n",
    "D'après le théorème des valeurs intermédiaires : $\\displaystyle \\exists \\hspace{0.03cm}  x \\in ]2,3[$ ; $f(x)=0$.\n",
    "\n",
    "C'est à dire que l'équation $(E)$ admet une solution dans $]2,3[$. Mais, on ne peut pas calculer la solution exacte de $(E)$. On doit utiliser des méthodes numériques pour approximer cette solution."
   ]
  },
  {
   "cell_type": "code",
   "execution_count": null,
   "metadata": {},
   "outputs": [],
   "source": []
  },
  {
   "cell_type": "code",
   "execution_count": null,
   "metadata": {},
   "outputs": [],
   "source": []
  },
  {
   "cell_type": "code",
   "execution_count": null,
   "metadata": {},
   "outputs": [],
   "source": []
  },
  {
   "cell_type": "code",
   "execution_count": null,
   "metadata": {},
   "outputs": [],
   "source": []
  },
  {
   "cell_type": "code",
   "execution_count": 2,
   "metadata": {},
   "outputs": [
    {
     "data": {
      "text/html": [
       "<link href='http://fonts.googleapis.com/css?family=Fenix' rel='stylesheet' type='text/css'>\n",
       "<link href='http://fonts.googleapis.com/css?family=Alegreya+Sans:100,300,400,500,700,800,900,100italic,300italic,400italic,500italic,700italic,800italic,900italic' rel='stylesheet' type='text/css'>\n",
       "<link href='http://fonts.googleapis.com/css?family=Source+Code+Pro:300,400' rel='stylesheet' type='text/css'>\n",
       "<style>\n",
       "    @font-face {\n",
       "        font-family: \"Computer Modern\";\n",
       "        src: url('http://mirrors.ctan.org/fonts/cm-unicode/fonts/otf/cmunss.otf');\n",
       "    }\n",
       "    div.cell{\n",
       "        width:600px;\n",
       "        margin-left:16% !important;\n",
       "        margin-right:auto;\n",
       "    }\n",
       "    h1 {\n",
       "        font-family: 'Alegreya Sans', sans-serif;\n",
       "    }\n",
       "    h2 {\n",
       "        font-family: 'Fenix', serif;\n",
       "    }\n",
       "    h3{\n",
       "\t\tfont-family: 'Fenix', serif;\n",
       "        margin-top:12px;\n",
       "        margin-bottom: 3px;\n",
       "       }\n",
       "\th4{\n",
       "\t\tfont-family: 'Fenix', serif;\n",
       "       }\n",
       "    h5 {\n",
       "        font-family: 'Alegreya Sans', sans-serif;\n",
       "    }\t   \n",
       "    div.text_cell_render{\n",
       "        font-family: 'Alegreya Sans',Computer Modern, \"Helvetica Neue\", Arial, Helvetica, Geneva, sans-serif;\n",
       "        line-height: 135%;\n",
       "        font-size: 120%;\n",
       "        width:600px;\n",
       "        margin-left:auto;\n",
       "        margin-right:auto;\n",
       "    }\n",
       "    .CodeMirror{\n",
       "            font-family: \"Source Code Pro\";\n",
       "\t\t\tfont-size: 90%;\n",
       "    }\n",
       "/*    .prompt{\n",
       "        display: None;\n",
       "    }*/\n",
       "    .text_cell_render h1 {\n",
       "        font-weight: 200;\n",
       "        font-size: 50pt;\n",
       "\t\tline-height: 100%;\n",
       "        color:#054BCD;\n",
       "        margin-bottom: 0.5em;\n",
       "        margin-top: 0.5em;\n",
       "        display: block;\n",
       "    }\t\n",
       "    .text_cell_render h5 {\n",
       "        font-weight: 300;\n",
       "        font-size: 16pt;\n",
       "        color: #054BCD;\n",
       "        font-style: italic;\n",
       "        margin-bottom: .5em;\n",
       "        margin-top: 0.5em;\n",
       "        display: block;\n",
       "    }\n",
       "    \n",
       "    .warning{\n",
       "        color: rgb( 240, 20, 20 )\n",
       "        }  \n",
       "</style>\n",
       "<script>\n",
       "    MathJax.Hub.Config({\n",
       "                        TeX: {\n",
       "                           extensions: [\"AMSmath.js\"]\n",
       "                           },\n",
       "                tex2jax: {\n",
       "                    inlineMath: [ ['$','$'], [\"\\\\(\",\"\\\\)\"] ],\n",
       "                    displayMath: [ ['$$','$$'], [\"\\\\[\",\"\\\\]\"] ]\n",
       "                },\n",
       "                displayAlign: 'center', // Change this to 'center' to center equations.\n",
       "                \"HTML-CSS\": {\n",
       "                    styles: {'.MathJax_Display': {\"margin\": 4}}\n",
       "                }\n",
       "        });\n",
       "</script>\n"
      ],
      "text/plain": [
       "<IPython.core.display.HTML object>"
      ]
     },
     "execution_count": 2,
     "metadata": {},
     "output_type": "execute_result"
    }
   ],
   "source": [
    "# css style\n",
    "from IPython.core.display import HTML\n",
    "def css_styling():\n",
    "    styles = open(\"../styles/custom.css\", \"r\").read()\n",
    "    return HTML(styles)\n",
    "css_styling()\n",
    "\n"
   ]
  },
  {
   "cell_type": "code",
   "execution_count": null,
   "metadata": {},
   "outputs": [],
   "source": []
  },
  {
   "cell_type": "code",
   "execution_count": null,
   "metadata": {},
   "outputs": [],
   "source": []
  }
 ],
 "metadata": {
  "kernelspec": {
   "display_name": "Python 3",
   "language": "python",
   "name": "python3"
  },
  "language_info": {
   "codemirror_mode": {
    "name": "ipython",
    "version": 3
   },
   "file_extension": ".py",
   "mimetype": "text/x-python",
   "name": "python",
   "nbconvert_exporter": "python",
   "pygments_lexer": "ipython3",
   "version": "3.8.2"
  }
 },
 "nbformat": 4,
 "nbformat_minor": 4
}
